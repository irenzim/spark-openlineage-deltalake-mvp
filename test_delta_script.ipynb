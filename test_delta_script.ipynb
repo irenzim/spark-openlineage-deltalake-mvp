{
 "cells": [
  {
   "cell_type": "markdown",
   "id": "83951061",
   "metadata": {},
   "source": [
    "# OpenLineage Demo with PySpark and Delta Lake"
   ]
  },
  {
   "cell_type": "markdown",
   "id": "0f5776c8",
   "metadata": {},
   "source": [
    "## Starting local Spark Session"
   ]
  },
  {
   "cell_type": "code",
   "execution_count": 6,
   "id": "1d78684a-ca12-4792-b51c-74296b987dff",
   "metadata": {},
   "outputs": [],
   "source": [
    "import pyspark\n",
    "from delta import *\n",
    "from pyspark.sql.types import *\n",
    "from delta.tables import *\n",
    "from pyspark.sql.functions import *\n",
    "\n",
    "#  Create a spark session with Delta\n",
    "builder = pyspark.sql.SparkSession.builder.appName(\"DeltaTutorial\") \\\n",
    "    .config(\"spark.sql.extensions\", \"io.delta.sql.DeltaSparkSessionExtension\") \\\n",
    "    .config(\"spark.sql.catalog.spark_catalog\", \"org.apache.spark.sql.delta.catalog.DeltaCatalog\")\n",
    "\n",
    "# Create spark context\n",
    "spark = configure_spark_with_delta_pip(builder).getOrCreate()\n",
    "spark.sparkContext.setLogLevel(\"ERROR\")"
   ]
  },
  {
   "cell_type": "markdown",
   "id": "4d8c0fb2",
   "metadata": {},
   "source": [
    "## Create dummy Delta Lake table"
   ]
  },
  {
   "cell_type": "code",
   "execution_count": 2,
   "id": "243881b7-098b-4944-8b8c-651a71f7e831",
   "metadata": {},
   "outputs": [
    {
     "name": "stdout",
     "output_type": "stream",
     "text": [
      "Starting Delta table creation\n"
     ]
    },
    {
     "name": "stderr",
     "output_type": "stream",
     "text": [
      "                                                                                \r"
     ]
    }
   ],
   "source": [
    "# Create a spark dataframe and write as a delta table\n",
    "print(\"Starting Delta table creation\")\n",
    "\n",
    "data = [(\"Robert\", \"Baratheon\", \"Baratheon\", \"Storms End\", 48),\n",
    "        (\"Eddard\", \"Stark\", \"Stark\", \"Winterfell\", 46),\n",
    "        (\"Jamie\", \"Lannister\", \"Lannister\", \"Casterly Rock\", 29)\n",
    "        ]\n",
    "schema = StructType([\n",
    "    StructField(\"firstname\", StringType(), True),\n",
    "    StructField(\"lastname\", StringType(), True),\n",
    "    StructField(\"house\", StringType(), True),\n",
    "    StructField(\"location\", StringType(), True),\n",
    "    StructField(\"age\", IntegerType(), True)\n",
    "])\n",
    "\n",
    "sample_dataframe = spark.createDataFrame(data=data, schema=schema)\n",
    "sample_dataframe.write.mode(saveMode=\"overwrite\").format(\"delta\").save(\"data/delta-table\")\n"
   ]
  },
  {
   "cell_type": "code",
   "execution_count": 3,
   "id": "abd33ed7",
   "metadata": {},
   "outputs": [
    {
     "name": "stdout",
     "output_type": "stream",
     "text": [
      "Reading delta file ...!\n",
      "+---------+---------+---------+-------------+---+\n",
      "|firstname| lastname|    house|     location|age|\n",
      "+---------+---------+---------+-------------+---+\n",
      "|    Jamie|Lannister|Lannister|Casterly Rock| 29|\n",
      "|   Robert|Baratheon|Baratheon|   Storms End| 48|\n",
      "|   Eddard|    Stark|    Stark|   Winterfell| 46|\n",
      "+---------+---------+---------+-------------+---+\n",
      "\n"
     ]
    }
   ],
   "source": [
    "# Read Data\n",
    "print(\"Reading delta file ...!\")\n",
    "\n",
    "got_df = spark.read.format(\"delta\").load(\"data/delta-table\")\n",
    "got_df.show()"
   ]
  },
  {
   "cell_type": "markdown",
   "id": "a2e9c2cb",
   "metadata": {},
   "source": [
    "## Update Delta Lake table"
   ]
  },
  {
   "cell_type": "code",
   "execution_count": 4,
   "id": "138e9197",
   "metadata": {},
   "outputs": [
    {
     "name": "stdout",
     "output_type": "stream",
     "text": [
      "Update data...!\n",
      "+---------+---------+---------+-------------+---+\n",
      "|firstname| lastname|    house|     location|age|\n",
      "+---------+---------+---------+-------------+---+\n",
      "|    Jamie|Lannister|Lannister|Casterly Rock| 29|\n",
      "|   Robert|Baratheon|Baratheon|   Storms End| 48|\n",
      "|   Eddard|    Stark|    Stark|   Winterfell| 46|\n",
      "+---------+---------+---------+-------------+---+\n",
      "\n",
      "+---------+---------+---------+-------------+---+\n",
      "|firstname| lastname|    house|     location|age|\n",
      "+---------+---------+---------+-------------+---+\n",
      "|    Jamie|Lannister|Lannister|Kings Landing| 37|\n",
      "|   Robert|Baratheon|Baratheon|   Storms End| 48|\n",
      "|   Eddard|    Stark|    Stark|   Winterfell| 46|\n",
      "+---------+---------+---------+-------------+---+\n",
      "\n"
     ]
    }
   ],
   "source": [
    "# Update data in Delta\n",
    "print(\"Update data...!\")\n",
    "\n",
    "# delta table path\n",
    "deltaTable = DeltaTable.forPath(spark, \"data/delta-table\")\n",
    "deltaTable.toDF().show()\n",
    "\n",
    "deltaTable.update(\n",
    "    condition=expr(\"firstname == 'Jamie'\"),\n",
    "    set={\"firstname\": lit(\"Jamie\"), \"lastname\": lit(\"Lannister\"), \"house\": lit(\"Lannister\"),\n",
    "         \"location\": lit(\"Kings Landing\"), \"age\": lit(37)})\n",
    "\n",
    "deltaTable.toDF().show()"
   ]
  }
 ],
 "metadata": {
  "kernelspec": {
   "display_name": "Python 3 (ipykernel)",
   "language": "python",
   "name": "python3"
  },
  "language_info": {
   "codemirror_mode": {
    "name": "ipython",
    "version": 3
   },
   "file_extension": ".py",
   "mimetype": "text/x-python",
   "name": "python",
   "nbconvert_exporter": "python",
   "pygments_lexer": "ipython3",
   "version": "3.9.16"
  }
 },
 "nbformat": 4,
 "nbformat_minor": 5
}
